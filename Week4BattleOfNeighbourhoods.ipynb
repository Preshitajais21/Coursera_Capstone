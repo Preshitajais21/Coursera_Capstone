{
 "cells": [
  {
   "cell_type": "markdown",
   "metadata": {},
   "source": [
    "# The Battle of Neighborhoods | Business Proposal"
   ]
  },
  {
   "cell_type": "markdown",
   "metadata": {},
   "source": [
    "## Introduction:\n",
    "\n",
    "#### This project mainly aims to help an immigrant in the city. The purpose of this Project is to help people in exploring better facilities around their neighborhood. It will help people making smart and efficient decision on selecting great neighborhood out of numbers of other neighborhoods in York, Toronto.\n",
    "#### Many people settle down or immigrate to York, or they might come here for trips or for official visits then they need to do a lot of research for good and in-budget housing or maybe schools for their children. This will also help the people who want to search for different facilities in the neighbourhood like cafes, restaurants, super markets, parks, hospitals, airports, etc.\n",
    "#### This Project aim to create an analysis of features for a people migrating to York to search a best neighborhood. The features include median housing price and better school according to ratings, crime rates of that particular area, road connectivity, weather conditions, good management for emergency, water resources both freash and waste water and excrement conveyed in sewers and recreational facilities."
   ]
  },
  {
   "cell_type": "markdown",
   "metadata": {},
   "source": [
    "## The Location:\n",
    "#### York is a popular destination for new immigrants in Canada to reside. As a result, it is one of the most diverse and multicultural areas in the Greater Toronto Area, being home to various religious groups and places of worship. Although immigration has become a hot topic over the past few years with more governments seeking more restrictions on immigrants and refugees, the general trend of immigration into Canada has been one of on the rise.\n",
    " "
   ]
  },
  {
   "cell_type": "markdown",
   "metadata": {},
   "source": [
    "## Clustering Approach:\n",
    "#### To compare the similarities of two cities, we decided to explore neighborhoods, segment them, and group them into clusters to find similar neighborhoods in a big city like New York and Toronto. To be able to do that, we need to cluster data which is a form of unsupervised machine learning: k-means clustering algorithm\n"
   ]
  },
  {
   "cell_type": "markdown",
   "metadata": {},
   "source": [
    "## Libraries Which are Used to Develope the Project:\n",
    "#### Pandas: For creating and manipulating dataframes.\n",
    "#### Folium: Python visualization library would be used to visualize the neighborhoods cluster distribution of using interactive leaflet map.\n",
    "#### Scikit Learn: For importing k-means clustering.\n",
    "#### JSON: Library to handle JSON files.\n",
    "#### XML: To separate data from presentation and XML stores data in plain text format.\n",
    "#### Geocoder: To retrieve Location Data.\n",
    "#### Beautiful Soup and Requests: To scrap and library to handle http requests.\n",
    "#### Matplotlib: Python Plotting Module.\n"
   ]
  },
  {
   "cell_type": "markdown",
   "metadata": {},
   "source": [
    "## Data Description:\n",
    "\n",
    "#### Data Link: https://en.wikipedia.org/wiki/List_of_postal_codes_of_Canada:_M\n",
    "\n",
    "\n",
    "## Foursquare API Data:\n",
    "#### We will need data about different venues in different neighborhoods of that specific borough. In order to gain that information we will use \"Foursquare\" locational information. Foursquare is a location data provider with information about all manner of venues and events within an area of interest. Such information includes venue names, locations, menus and even photos. As such, the foursquare location platform will be used as the sole data source since all the stated required information can be obtained through the API.\n",
    "\n",
    "#### After finding the list of neighborhoods, we then connect to the Foursquare API to gather information about venues inside each and every neighborhood. For each neighborhood, we have chosen the radius to be 100 meter.\n",
    "\n",
    "#### The data retrieved from Foursquare contained information of venues within a specified distance of the longitude and latitude of the postcodes. The information obtained per venue as follows:\n",
    "\n",
    "#### 1. Neighborhood\n",
    "#### 2. Neighborhood Latitude\n",
    "#### 3. Neighborhood Longitude\n",
    "#### 4. Venue\n",
    "#### 5. Name of the venue e.g. the name of a store or restaurant\n",
    "#### 6. Venue Latitude\n",
    "#### 7. Venue Longitude\n",
    "#### 8. Venue Category\n"
   ]
  },
  {
   "cell_type": "code",
   "execution_count": null,
   "metadata": {},
   "outputs": [],
   "source": []
  }
 ],
 "metadata": {
  "kernelspec": {
   "display_name": "Python 3",
   "language": "python",
   "name": "python3"
  },
  "language_info": {
   "codemirror_mode": {
    "name": "ipython",
    "version": 3
   },
   "file_extension": ".py",
   "mimetype": "text/x-python",
   "name": "python",
   "nbconvert_exporter": "python",
   "pygments_lexer": "ipython3",
   "version": "3.7.3"
  }
 },
 "nbformat": 4,
 "nbformat_minor": 2
}
